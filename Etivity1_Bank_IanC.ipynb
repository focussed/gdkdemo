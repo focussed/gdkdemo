{
  "nbformat": 4,
  "nbformat_minor": 0,
  "metadata": {
    "kernelspec": {
      "display_name": "Python 3",
      "language": "python",
      "name": "python3"
    },
    "language_info": {
      "codemirror_mode": {
        "name": "ipython",
        "version": 3
      },
      "file_extension": ".py",
      "mimetype": "text/x-python",
      "name": "python",
      "nbconvert_exporter": "python",
      "pygments_lexer": "ipython3",
      "version": "3.7.4"
    },
    "colab": {
      "name": "Etivity1-Bank-IanC.ipynb",
      "provenance": [],
      "include_colab_link": true
    }
  },
  "cells": [
    {
      "cell_type": "markdown",
      "metadata": {
        "id": "view-in-github",
        "colab_type": "text"
      },
      "source": [
        "<a href=\"https://colab.research.google.com/github/focussed/gdkdemo/blob/master/Etivity1_Bank_IanC.ipynb\" target=\"_parent\"><img src=\"https://colab.research.google.com/assets/colab-badge.svg\" alt=\"Open In Colab\"/></a>"
      ]
    },
    {
      "cell_type": "code",
      "metadata": {
        "id": "eeigMGtwY_hR",
        "colab_type": "code",
        "colab": {}
      },
      "source": [
        "# The Python modules uses in this tutorial are:\n",
        "\n",
        "# - Pandas\n",
        "# - Numpy\n",
        "# - Matplotlib\n",
        "# - Seaborn\n",
        "\n",
        "import pandas as pd\n",
        "import numpy as np\n",
        "import matplotlib.pyplot as plt\n",
        "import seaborn as sns"
      ],
      "execution_count": 0,
      "outputs": []
    },
    {
      "cell_type": "code",
      "metadata": {
        "id": "lF3QR3tbY_hl",
        "colab_type": "code",
        "colab": {}
      },
      "source": [
        "df = pd.read_csv('./bank.csv')"
      ],
      "execution_count": 0,
      "outputs": []
    },
    {
      "cell_type": "markdown",
      "metadata": {
        "id": "6Rm7ckFwY_hz",
        "colab_type": "text"
      },
      "source": [
        "First Pass of Data\n",
        "Gather basic statistics from dataset"
      ]
    },
    {
      "cell_type": "code",
      "metadata": {
        "id": "CbeqRtVBY_h3",
        "colab_type": "code",
        "colab": {},
        "outputId": "01f7cd9f-1c00-4a45-d623-8f922728ac45"
      },
      "source": [
        "df.describe()"
      ],
      "execution_count": 0,
      "outputs": [
        {
          "output_type": "execute_result",
          "data": {
            "text/html": [
              "<div>\n",
              "<style scoped>\n",
              "    .dataframe tbody tr th:only-of-type {\n",
              "        vertical-align: middle;\n",
              "    }\n",
              "\n",
              "    .dataframe tbody tr th {\n",
              "        vertical-align: top;\n",
              "    }\n",
              "\n",
              "    .dataframe thead th {\n",
              "        text-align: right;\n",
              "    }\n",
              "</style>\n",
              "<table border=\"1\" class=\"dataframe\">\n",
              "  <thead>\n",
              "    <tr style=\"text-align: right;\">\n",
              "      <th></th>\n",
              "      <th>age</th>\n",
              "      <th>balance</th>\n",
              "      <th>day</th>\n",
              "      <th>duration</th>\n",
              "      <th>campaign</th>\n",
              "      <th>pdays</th>\n",
              "      <th>previous</th>\n",
              "    </tr>\n",
              "  </thead>\n",
              "  <tbody>\n",
              "    <tr>\n",
              "      <td>count</td>\n",
              "      <td>1988.000000</td>\n",
              "      <td>2000.000000</td>\n",
              "      <td>2000.000000</td>\n",
              "      <td>2000.000000</td>\n",
              "      <td>2000.000000</td>\n",
              "      <td>2000.000000</td>\n",
              "      <td>2000.000000</td>\n",
              "    </tr>\n",
              "    <tr>\n",
              "      <td>mean</td>\n",
              "      <td>41.753018</td>\n",
              "      <td>1413.663500</td>\n",
              "      <td>13.851500</td>\n",
              "      <td>292.020500</td>\n",
              "      <td>1.909500</td>\n",
              "      <td>167.896000</td>\n",
              "      <td>2.561500</td>\n",
              "    </tr>\n",
              "    <tr>\n",
              "      <td>std</td>\n",
              "      <td>12.724358</td>\n",
              "      <td>3131.224213</td>\n",
              "      <td>9.712189</td>\n",
              "      <td>221.557295</td>\n",
              "      <td>1.378862</td>\n",
              "      <td>131.754126</td>\n",
              "      <td>3.400735</td>\n",
              "    </tr>\n",
              "    <tr>\n",
              "      <td>min</td>\n",
              "      <td>18.000000</td>\n",
              "      <td>-980.000000</td>\n",
              "      <td>1.000000</td>\n",
              "      <td>7.000000</td>\n",
              "      <td>1.000000</td>\n",
              "      <td>-1.000000</td>\n",
              "      <td>0.000000</td>\n",
              "    </tr>\n",
              "    <tr>\n",
              "      <td>25%</td>\n",
              "      <td>32.000000</td>\n",
              "      <td>201.500000</td>\n",
              "      <td>5.000000</td>\n",
              "      <td>146.000000</td>\n",
              "      <td>1.000000</td>\n",
              "      <td>75.750000</td>\n",
              "      <td>1.000000</td>\n",
              "    </tr>\n",
              "    <tr>\n",
              "      <td>50%</td>\n",
              "      <td>38.000000</td>\n",
              "      <td>551.000000</td>\n",
              "      <td>12.000000</td>\n",
              "      <td>236.000000</td>\n",
              "      <td>1.000000</td>\n",
              "      <td>182.000000</td>\n",
              "      <td>2.000000</td>\n",
              "    </tr>\n",
              "    <tr>\n",
              "      <td>75%</td>\n",
              "      <td>50.000000</td>\n",
              "      <td>1644.500000</td>\n",
              "      <td>23.000000</td>\n",
              "      <td>379.000000</td>\n",
              "      <td>2.000000</td>\n",
              "      <td>251.000000</td>\n",
              "      <td>3.000000</td>\n",
              "    </tr>\n",
              "    <tr>\n",
              "      <td>max</td>\n",
              "      <td>93.000000</td>\n",
              "      <td>81204.000000</td>\n",
              "      <td>31.000000</td>\n",
              "      <td>1823.000000</td>\n",
              "      <td>11.000000</td>\n",
              "      <td>854.000000</td>\n",
              "      <td>55.000000</td>\n",
              "    </tr>\n",
              "  </tbody>\n",
              "</table>\n",
              "</div>"
            ],
            "text/plain": [
              "               age       balance          day     duration     campaign  \\\n",
              "count  1988.000000   2000.000000  2000.000000  2000.000000  2000.000000   \n",
              "mean     41.753018   1413.663500    13.851500   292.020500     1.909500   \n",
              "std      12.724358   3131.224213     9.712189   221.557295     1.378862   \n",
              "min      18.000000   -980.000000     1.000000     7.000000     1.000000   \n",
              "25%      32.000000    201.500000     5.000000   146.000000     1.000000   \n",
              "50%      38.000000    551.000000    12.000000   236.000000     1.000000   \n",
              "75%      50.000000   1644.500000    23.000000   379.000000     2.000000   \n",
              "max      93.000000  81204.000000    31.000000  1823.000000    11.000000   \n",
              "\n",
              "             pdays     previous  \n",
              "count  2000.000000  2000.000000  \n",
              "mean    167.896000     2.561500  \n",
              "std     131.754126     3.400735  \n",
              "min      -1.000000     0.000000  \n",
              "25%      75.750000     1.000000  \n",
              "50%     182.000000     2.000000  \n",
              "75%     251.000000     3.000000  \n",
              "max     854.000000    55.000000  "
            ]
          },
          "metadata": {
            "tags": []
          },
          "execution_count": 4
        }
      ]
    },
    {
      "cell_type": "markdown",
      "metadata": {
        "id": "840Vn6bhY_iL",
        "colab_type": "text"
      },
      "source": [
        "The describe function treats the numeric fields of the dataset, calculating the useful statistic information such as mean, standard deviation, quartile values and max and min values for the 2000 samples.\n",
        "\n",
        "A data clean is needed on the input forms as the age is not specified for all customers.  These rows should be identified and values entered.  Age may or may not be necessary for the bank.  However, for the bank to make decisions based on age may result in a false premise if the value is not recorded for all clients in the dataset.\n",
        "\n",
        "It can be seen that the average balance amount is 1413 and the standard deviation is quite high at 3131\n",
        "\n"
      ]
    },
    {
      "cell_type": "code",
      "metadata": {
        "jupyter": {
          "source_hidden": true
        },
        "id": "S3ZWD8ivY_iN",
        "colab_type": "code",
        "colab": {},
        "outputId": "12825a1f-56eb-4252-b709-4d0f2e33fc82"
      },
      "source": [
        "sns.heatmap(df.corr());"
      ],
      "execution_count": 0,
      "outputs": [
        {
          "output_type": "display_data",
          "data": {
            "image/png": "[encoded data removed]",
            "text/plain": [
              "<Figure size 432x288 with 2 Axes>"
            ]
          },
          "metadata": {
            "tags": [],
            "needs_background": "light"
          }
        }
      ]
    },
    {
      "cell_type": "code",
      "metadata": {
        "id": "O4Dx5bocY_iU",
        "colab_type": "code",
        "colab": {}
      },
      "source": [
        "The next stage is to consider text based data and examine the individual columns for integrity.\n"
      ],
      "execution_count": 0,
      "outputs": []
    }
  ]
}